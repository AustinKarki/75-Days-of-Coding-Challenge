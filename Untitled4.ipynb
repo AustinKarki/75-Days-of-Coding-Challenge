{
  "nbformat": 4,
  "nbformat_minor": 0,
  "metadata": {
    "colab": {
      "provenance": [],
      "authorship_tag": "ABX9TyO7O48zpoHK9la/SUFgrx4r",
      "include_colab_link": true
    },
    "kernelspec": {
      "name": "python3",
      "display_name": "Python 3"
    },
    "language_info": {
      "name": "python"
    }
  },
  "cells": [
    {
      "cell_type": "markdown",
      "metadata": {
        "id": "view-in-github",
        "colab_type": "text"
      },
      "source": [
        "<a href=\"https://colab.research.google.com/github/AustinKarki/75-Days-of-Coding-Challenge/blob/main/Untitled4.ipynb\" target=\"_parent\"><img src=\"https://colab.research.google.com/assets/colab-badge.svg\" alt=\"Open In Colab\"/></a>"
      ]
    },
    {
      "cell_type": "code",
      "execution_count": null,
      "metadata": {
        "colab": {
          "base_uri": "https://localhost:8080/"
        },
        "id": "IEkfnw3-ABdw",
        "outputId": "f5668d55-1882-4e5c-a0cd-cb8b8c29d5a0"
      },
      "outputs": [
        {
          "output_type": "stream",
          "name": "stdout",
          "text": [
            "* * * * * \n",
            "* * * * \n",
            "* * * \n",
            "* * \n",
            "* \n"
          ]
        }
      ],
      "source": [
        "for i in range(0,5):\n",
        "  for j in range(0,5):\n",
        "    if i<=j:\n",
        "      print(\"*\", end=' ')\n",
        "  print('')"
      ]
    },
    {
      "cell_type": "code",
      "source": [
        "n = 5\n",
        "alph = 65\n",
        "for i in range(0, n):\n",
        "    print(\" \" * (n-i), end=\" \")\n",
        "    for j in range(0, i+1):\n",
        "        print(chr(alph), end=\" \")\n",
        "        alph += 1\n",
        "    alph = 65\n",
        "    print('')"
      ],
      "metadata": {
        "colab": {
          "base_uri": "https://localhost:8080/"
        },
        "id": "x6RnDJhOJcIq",
        "outputId": "d01b8084-3d94-4533-b904-c0c01e575cb9"
      },
      "execution_count": null,
      "outputs": [
        {
          "output_type": "stream",
          "name": "stdout",
          "text": [
            "      A \n",
            "     A B \n",
            "    A B C \n",
            "   A B C D \n",
            "  A B C D E \n"
          ]
        }
      ]
    },
    {
      "cell_type": "code",
      "source": [
        "n =5\n",
        "a = '*'\n",
        "for i in range(0,n):\n",
        "  print(' ' * (n-i), end=' ')\n",
        "  for j in range (0,i+1):\n",
        "    print(a , end= '')\n",
        "  print('')\n"
      ],
      "metadata": {
        "colab": {
          "base_uri": "https://localhost:8080/"
        },
        "id": "fpAUBIi9NYoR",
        "outputId": "feeb80fc-1f4c-4731-8a6d-4744d413cba7"
      },
      "execution_count": null,
      "outputs": [
        {
          "output_type": "stream",
          "name": "stdout",
          "text": [
            "      *\n",
            "     **\n",
            "    ***\n",
            "   ****\n",
            "  *****\n"
          ]
        }
      ]
    },
    {
      "cell_type": "code",
      "source": [
        "def triangle(n):\n",
        "\n",
        "\n",
        "    k = n - 1\n",
        "\n",
        "\n",
        "    for i in range(0, n):\n",
        "\n",
        "\n",
        "        for j in range(0, k):\n",
        "            print(end=\" \")\n",
        "\n",
        "\n",
        "        k = k - 1\n",
        "\n",
        "\n",
        "        for j in range(0, i+1):\n",
        "\n",
        "\n",
        "            print(\"* \", end=\"\")\n",
        "\n",
        "\n",
        "        print(\"\\r\")\n",
        "n = 5\n",
        "triangle(n)"
      ],
      "metadata": {
        "colab": {
          "base_uri": "https://localhost:8080/"
        },
        "id": "a1aoWSHGPe8b",
        "outputId": "900751a6-0548-4db4-9aaa-a2af6d3bfe98"
      },
      "execution_count": null,
      "outputs": [
        {
          "output_type": "stream",
          "name": "stdout",
          "text": [
            "    * \r\n",
            "   * * \r\n",
            "  * * * \r\n",
            " * * * * \r\n",
            "* * * * * \r\n"
          ]
        }
      ]
    }
  ]
}