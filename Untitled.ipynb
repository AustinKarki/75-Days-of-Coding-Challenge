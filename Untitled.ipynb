{
  "cells": [
    {
      "cell_type": "markdown",
      "metadata": {
        "id": "view-in-github",
        "colab_type": "text"
      },
      "source": [
        "<a href=\"https://colab.research.google.com/github/AustinKarki/75-Days-of-Coding-Challenge/blob/main/Untitled.ipynb\" target=\"_parent\"><img src=\"https://colab.research.google.com/assets/colab-badge.svg\" alt=\"Open In Colab\"/></a>"
      ]
    },
    {
      "cell_type": "code",
      "execution_count": null,
      "metadata": {
        "id": "CRnpTVFG-Iw3"
      },
      "outputs": [],
      "source": [
        "# Tuple ()\n",
        "# Set {}\n"
      ]
    },
    {
      "cell_type": "code",
      "execution_count": null,
      "metadata": {
        "colab": {
          "base_uri": "https://localhost:8080/"
        },
        "id": "n1r34vm1Av6B",
        "outputId": "edfa6534-ff52-4ce6-9ec8-410eb45e4e9b"
      },
      "outputs": [
        {
          "name": "stdout",
          "output_type": "stream",
          "text": [
            "Enter how many product you want to add: 2\n",
            "Enter product name: apple\n",
            "Enter product category: dde\n",
            "Enter product price: 455\n",
            "Enter product name: ede\n",
            "Enter product category: rr\n",
            "Enter product price: 555\n",
            "['apple', 'ede']\n",
            "['dde', 'rr']\n",
            "[555, 455]\n",
            "{'apple': ['dde', 555], 'ede': ['rr', 455]}\n"
          ]
        }
      ],
      "source": [
        "# product\n",
        "# category\n",
        "# price\n",
        "[{\"name\":\"ram\",'age':32},{\"name\":\"hari\",'age':66}]\n",
        "\n",
        "{\"name\":[\"ram\",\"hari\"],\"age\":[32,66]}\n",
        "\n",
        "product=([],)\n",
        "category=([],)\n",
        "price=([],)\n",
        "a=int(input(\"Enter how many product you want to add: \"))\n",
        "for i in range(a):\n",
        "    name=input(\"Enter product name: \")\n",
        "    categoryy=input(\"Enter product category: \")\n",
        "    pricee=int(input(\"Enter product price: \"))\n",
        "    product[0].append(name)\n",
        "    category[0].append(categoryy)\n",
        "    price[0].append(pricee)\n",
        "products=set(product[0])\n",
        "categories=set(category[0])\n",
        "prices=set(price[0])\n",
        "a=list(products)\n",
        "b=list(categories)\n",
        "c=list(prices)\n",
        "print(a)\n",
        "print(b)\n",
        "print(c)\n",
        "aa=dict()\n",
        "for i in range(len(a)):\n",
        "    aa[f\"{a[i]}\"]=[b[i],c[i]] ## product :[Category , price]\n",
        "print(aa)"
      ]
    },
    {
      "cell_type": "code",
      "execution_count": null,
      "metadata": {
        "colab": {
          "base_uri": "https://localhost:8080/"
        },
        "id": "xa85rrJbDlwX",
        "outputId": "208f802c-4388-4dac-c979-91d04ff32229"
      },
      "outputs": [
        {
          "name": "stdout",
          "output_type": "stream",
          "text": [
            "{'mango': [20, 'fruits'], 'apple': [16, 'fruits'], 'cabbage': [56, 'vegetable']}\n",
            "{'mango': {'price': 20, 'category': 'fruits'}, 'apple': {'price': 16, 'category': 'fruits'}, 'cabbage': {'price': 56, 'category': 'vegetable'}}\n"
          ]
        }
      ],
      "source": [
        "product1=('apple',16,'fruits')\n",
        "product2=('mango',20,'fruits')\n",
        "product3=('cabbage',56,'vegetable')\n",
        "product4=('apple',16,'fruits')\n",
        "\n",
        "product=[product1,product2,product3,product4]\n",
        "\n",
        "for i in product:\n",
        "  product\n",
        "pro=set(product)\n",
        "# print(pro)\n",
        "pp=list(pro)\n",
        "# print(pp)\n",
        "a=dict()\n",
        "b=dict()\n",
        "for i in pp:\n",
        "  name,price,category=i\n",
        "  a[name]=[price,category]\n",
        "  b[name]={'price':price, \"category\":category}\n",
        "print(a)\n",
        "print(b)\n",
        "\n"
      ]
    },
    {
      "cell_type": "code",
      "execution_count": null,
      "metadata": {
        "colab": {
          "background_save": true,
          "base_uri": "https://localhost:8080/"
        },
        "id": "C5qsAHMqenOB",
        "outputId": "2d297e2b-2c0a-47d6-a555-0da210fb0eeb"
      },
      "outputs": [
        {
          "name": "stdout",
          "output_type": "stream",
          "text": [
            "Managing Student Records in a School\n",
            "--------------------------------------\n",
            "('ram', 20, 'A grade', 'Science')\n",
            "('shyam', 22, 'B grade', 'Commerce')\n",
            "('sita', 19, 'A+ grade', 'Arts')\n",
            "('gita', 21, 'C grade', 'Science')\n",
            "('hari', 20, 'B grade', 'Engineering')\n",
            "{'A grade', 'A+ grade', 'B grade', 'C grade'}\n",
            "[('ram', 20, 'A grade', 'Science'), ('shyam', 22, 'B grade', 'Commerce'), ('sita', 19, 'A+ grade', 'Arts'), ('gita', 21, 'C grade', 'Science'), ('hari', 20, 'B grade', 'Engineering')]\n",
            "{'ram': [20, 'A grade', 'Science'], 'shyam': [22, 'B grade', 'Commerce'], 'sita': [19, 'A+ grade', 'Arts'], 'gita': [21, 'C grade', 'Science'], 'hari': [20, 'B grade', 'Engineering']}\n",
            "ram [20, 'Science']\n",
            "shyam [22, 'Commerce']\n",
            "sita [19, 'Arts']\n",
            "gita [21, 'Science']\n",
            "hari [20, 'Engineering']\n",
            "[20, 22, 19, 21, 20]\n",
            "The average age of the student is 20.\n",
            "{'ram': [20, 'A grade', 'Science'], 'shyam': [22, 'B grade', 'Commerce'], 'sita': [19, 'A+ grade', 'Arts'], 'gita': [21, 'C grade', 'Science'], 'hari': [20, 'B grade', 'Engineering']}\n",
            "ram\n",
            "gita\n"
          ]
        }
      ],
      "source": [
        "print('Managing Student Records in a School')\n",
        "print('--------------------------------------')\n",
        "student1=(\"ram\",20,\"A grade\",\"Science\")\n",
        "student2 = (\"shyam\", 22, \"B grade\", \"Commerce\")\n",
        "student3 = (\"sita\", 19, \"A+ grade\", \"Arts\")\n",
        "student4 = (\"gita\", 21, \"C grade\", \"Science\")\n",
        "student5 = (\"hari\", 20, \"B grade\", \"Engineering\")\n",
        "print(student1)\n",
        "print(student2)\n",
        "print(student3)\n",
        "print(student4)\n",
        "print(student5)\n",
        "\n",
        "grades = {student1[2], student2[2], student3[2], student4[2], student5[2]}\n",
        "print(grades)\n",
        "\n",
        "student_list=[student1 ,student2 ,student3 ,student4 ,student5]\n",
        "print(student_list)\n",
        "student=dict()\n",
        "for i in student_list:\n",
        "  name,age,grade,subject=i\n",
        "  student[name]=[age,grade,subject]\n",
        "print(student)\n",
        "\n",
        "for i in student:\n",
        "  print(i,[student[i][0],student[i][2]])\n",
        "ages=[]\n",
        "ooo=0\n",
        "for i in student:\n",
        "  ages.append(student[i][0])\n",
        "  ooo+=student[i][0]\n",
        "print(ages)\n",
        "\n",
        "# aa=sum(ages)//len(ages)\n",
        "# print(f\"The average age of the student is {aa}.\")\n",
        "\n",
        "aaa= ooo // len(ages)\n",
        "print(f\"The average age of the student is {aaa}.\")\n",
        "\n",
        "print(student)\n",
        "for i in student:\n",
        "  if student[i][2]==\"Science\":\n",
        "    print(i)\n",
        "grade1=0\n",
        "grade2=0\n",
        "grade3=0\n",
        "grade4=0\n",
        "\n",
        "q=[]\n",
        "w=[]\n",
        "e=[]\n",
        "r=[]\n",
        "applee=input(\"Enter list of student of wich grade you want: \")\n",
        "for i in student:\n",
        "  if student[i][1]==\"A grade\":\n",
        "    grade1+=1\n",
        "    q.append(i)\n",
        "  elif student[i][1]==\"B grade\":\n",
        "    grade2+=1\n",
        "    w.append(i)\n",
        "  elif student[i][1]==\"A+ grade\":\n",
        "    grade3+=1\n",
        "    e.append(i)\n",
        "  elif student[i][1]==\"C grade\":\n",
        "    grade4+=1\n",
        "    r.append(i)\n",
        "  else:\n",
        "    print(\"invalid\")\n",
        "if applee==\"A grade\":\n",
        "  print(f\"The total student in A Grade is {grade1}\")\n",
        "  print(\"List of Students:\")\n",
        "  print(q)\n",
        "elif applee==\"B grade\":\n",
        "  print(f\"The total student in B Grade is {grade2}\")\n",
        "  print(\"List of Students:\")\n",
        "  print(w)\n",
        "elif applee==\"A+ grade\":\n",
        "  print(f\"The total student in A+ Grade is {grade3}\")\n",
        "  print(\"List of Students:\")\n",
        "  print(e)\n",
        "elif applee==\"C grade\":\n",
        "  print(f\"The total student in C Grade is {grade4}\")\n",
        "  print(\"List of Students:\")\n",
        "  print(r)\n",
        "else:\n",
        "  print(\"invalid\")\n",
        "\n",
        "\n",
        "\n",
        "\n",
        "\n",
        "\n"
      ]
    },
    {
      "cell_type": "code",
      "execution_count": null,
      "metadata": {
        "colab": {
          "base_uri": "https://localhost:8080/"
        },
        "id": "H32N2wr-uPH1",
        "outputId": "187a090e-13ff-47d1-9a9b-c0a8adf7628d"
      },
      "outputs": [
        {
          "name": "stdout",
          "output_type": "stream",
          "text": [
            "{'ram': [20, 'A grade', 'Science'], 'shyam': [22, 'B grade', 'Commerce'], 'sita': [19, 'A+ grade', 'Arts'], 'gita': [21, 'C grade', 'Science'], 'hari': [20, 'B grade', 'Engineering']}\n"
          ]
        }
      ],
      "source": [
        "print(student)"
      ]
    },
    {
      "cell_type": "code",
      "execution_count": null,
      "metadata": {
        "colab": {
          "base_uri": "https://localhost:8080/"
        },
        "id": "LRE1fZSguQSv",
        "outputId": "f26c21cb-146f-4c9f-93e6-6d220e113e30"
      },
      "outputs": [
        {
          "data": {
            "text/plain": [
              "['Commerce', 'Science', 'Engineering', 'Arts']"
            ]
          },
          "execution_count": 20,
          "metadata": {},
          "output_type": "execute_result"
        }
      ],
      "source": [
        "abcc=[]\n",
        "for i in student:\n",
        "  abcc.append(student[i][2])\n",
        "abcc\n",
        "ppp=set(abcc)\n",
        "listt=[]\n",
        "for i in ppp:\n",
        "  listt.append(i)\n",
        "listt\n",
        "\n",
        "\n"
      ]
    },
    {
      "cell_type": "code",
      "execution_count": null,
      "metadata": {
        "colab": {
          "base_uri": "https://localhost:8080/"
        },
        "id": "Jj0bPCFuuhnu",
        "outputId": "9147efda-7ab4-4ef3-8f94-d7f1d0fcbc54"
      },
      "outputs": [
        {
          "name": "stdout",
          "output_type": "stream",
          "text": [
            "Enter student nameram\n",
            "Enter subject you want to change to: nepali\n",
            "{'ram': [20, 'A grade', 'nepali'], 'shyam': [22, 'B grade', 'Commerce'], 'sita': [19, 'A+ grade', 'Arts'], 'gita': [21, 'C grade', 'Science'], 'hari': [20, 'B grade', 'Engineering']}\n"
          ]
        }
      ],
      "source": [
        "student\n",
        "update=input(\"Enter student name\")\n",
        "subject=input(\"Enter subject you want to change to: \")\n",
        "found= False\n",
        "for i in student:\n",
        "  if i ==update:\n",
        "    student[i][2]=subject\n",
        "    found=True\n",
        "    break\n",
        "  if not found:\n",
        "    print(\"student not found\")\n",
        "print(student)"
      ]
    },
    {
      "cell_type": "code",
      "execution_count": null,
      "metadata": {
        "id": "1_vUqy-3vQYG"
      },
      "outputs": [],
      "source": [
        "\n"
      ]
    }
  ],
  "metadata": {
    "colab": {
      "provenance": [],
      "authorship_tag": "ABX9TyMkc3ezbcken41w+U5Mzjt8",
      "include_colab_link": true
    },
    "kernelspec": {
      "display_name": "Python 3",
      "name": "python3"
    },
    "language_info": {
      "name": "python"
    }
  },
  "nbformat": 4,
  "nbformat_minor": 0
}